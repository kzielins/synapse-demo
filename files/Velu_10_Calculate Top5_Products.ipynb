{
  "cells": [
    {
      "cell_type": "markdown",
      "source": [
        "Calculate top 5 products read from parquet and \r\n",
        "result written to top5_product"
      ],
      "metadata": {
        "nteract": {
          "transient": {
            "deleting": false
          }
        }
      }
    },
    {
      "cell_type": "code",
      "source": [
        "%%pyspark\r\n",
        "df = spark.read.load('abfss://asa-kz@asadatalake19hvmew.dfs.core.windows.net/top-products/*.parquet', format='parquet')\r\n",
        "display(df.limit(10))"
      ],
      "outputs": [
        {
          "output_type": "display_data",
          "data": {
            "application/vnd.livy.statement-meta+json": {
              "spark_pool": "SparkPool01",
              "session_id": "28",
              "statement_id": 2,
              "state": "finished",
              "livy_statement_state": "available",
              "queued_time": "2023-07-17T16:12:02.9405469Z",
              "session_start_time": null,
              "execution_start_time": "2023-07-17T16:12:33.4760712Z",
              "execution_finish_time": "2023-07-17T16:13:03.0245036Z",
              "spark_jobs": null,
              "parent_msg_id": "fd655e2b-901b-4419-bd8a-36f092c2f69c"
            },
            "text/plain": "StatementMeta(SparkPool01, 28, 2, Finished, Available)"
          },
          "metadata": {}
        },
        {
          "output_type": "display_data",
          "data": {
            "application/vnd.synapse.widget-view+json": {
              "widget_id": "c45eb09b-11d8-45f4-8d46-dd1ff37062e7",
              "widget_type": "Synapse.DataFrame"
            },
            "text/plain": "SynapseWidget(Synapse.DataFrame, c45eb09b-11d8-45f4-8d46-dd1ff37062e7)"
          },
          "metadata": {}
        }
      ],
      "execution_count": 2,
      "metadata": {
        "microsoft": {
          "language": "python"
        },
        "collapsed": false
      }
    },
    {
      "cell_type": "code",
      "source": [
        "topPurchases = df.select(\r\n",
        "    \"UserId\", \r\n",
        "    \"ProductId\",\r\n",
        "    \"ItemsPurchasedLast12Months\",\r\n",
        "    \"IsTopProduct\",\r\n",
        "    \"IsPreferredProduct\")\r\n",
        "\r\n",
        "# create temp  view top_purchases\r\n",
        "topPurchases.createOrReplaceTempView(\"top_purchases\")\r\n",
        "\r\n",
        "topPurchases.show(11)"
      ],
      "outputs": [
        {
          "output_type": "display_data",
          "data": {
            "application/vnd.livy.statement-meta+json": {
              "spark_pool": "SparkPool01",
              "session_id": "28",
              "statement_id": 3,
              "state": "finished",
              "livy_statement_state": "available",
              "queued_time": "2023-07-17T16:13:13.7631251Z",
              "session_start_time": null,
              "execution_start_time": "2023-07-17T16:13:13.9132844Z",
              "execution_finish_time": "2023-07-17T16:13:15.040391Z",
              "spark_jobs": null,
              "parent_msg_id": "6b12fdc3-194c-4cfa-96ad-51e9e182b0b6"
            },
            "text/plain": "StatementMeta(SparkPool01, 28, 3, Finished, Available)"
          },
          "metadata": {}
        },
        {
          "output_type": "stream",
          "name": "stdout",
          "text": [
            "+------+---------+--------------------------+------------+------------------+\n|UserId|ProductId|ItemsPurchasedLast12Months|IsTopProduct|IsPreferredProduct|\n+------+---------+--------------------------+------------+------------------+\n|   148|     2717|                      null|       false|              true|\n|   148|     4002|                      null|       false|              true|\n|   148|     1716|                      null|       false|              true|\n|   148|     4520|                      null|       false|              true|\n|   148|      951|                      null|       false|              true|\n|   148|     1817|                      null|       false|              true|\n|   148|     2717|                      null|       false|              true|\n|   148|     4002|                      null|       false|              true|\n|   148|     1716|                      null|       false|              true|\n|   148|     4520|                      null|       false|              true|\n|   148|      951|                      null|       false|              true|\n+------+---------+--------------------------+------------+------------------+\nonly showing top 11 rows\n\n"
          ]
        }
      ],
      "execution_count": 3,
      "metadata": {
        "jupyter": {
          "source_hidden": false,
          "outputs_hidden": false
        },
        "nteract": {
          "transient": {
            "deleting": false
          }
        }
      }
    },
    {
      "cell_type": "code",
      "source": [
        "%%sql\r\n",
        "select * from top_purchases LIMIT 11"
      ],
      "outputs": [
        {
          "output_type": "display_data",
          "data": {
            "application/vnd.livy.statement-meta+json": {
              "spark_pool": "SparkPool01",
              "session_id": "28",
              "statement_id": 5,
              "state": "finished",
              "livy_statement_state": "available",
              "queued_time": "2023-07-17T16:13:48.3818996Z",
              "session_start_time": null,
              "execution_start_time": "2023-07-17T16:13:48.5316494Z",
              "execution_finish_time": "2023-07-17T16:13:49.6482571Z",
              "spark_jobs": null,
              "parent_msg_id": "00c88e1d-7c45-490d-9200-18aa367d4b50"
            },
            "text/plain": "StatementMeta(SparkPool01, 28, 5, Finished, Available)"
          },
          "metadata": {}
        },
        {
          "output_type": "execute_result",
          "execution_count": 5,
          "data": {
            "application/vnd.synapse.sparksql-result+json": {
              "schema": {
                "type": "struct",
                "fields": [
                  {
                    "name": "UserId",
                    "type": "integer",
                    "nullable": true,
                    "metadata": {}
                  },
                  {
                    "name": "ProductId",
                    "type": "integer",
                    "nullable": true,
                    "metadata": {}
                  },
                  {
                    "name": "ItemsPurchasedLast12Months",
                    "type": "integer",
                    "nullable": true,
                    "metadata": {}
                  },
                  {
                    "name": "IsTopProduct",
                    "type": "boolean",
                    "nullable": true,
                    "metadata": {}
                  },
                  {
                    "name": "IsPreferredProduct",
                    "type": "boolean",
                    "nullable": true,
                    "metadata": {}
                  }
                ]
              },
              "data": [
                [
                  148,
                  2717,
                  null,
                  false,
                  true
                ],
                [
                  148,
                  4002,
                  null,
                  false,
                  true
                ],
                [
                  148,
                  1716,
                  null,
                  false,
                  true
                ],
                [
                  148,
                  4520,
                  null,
                  false,
                  true
                ],
                [
                  148,
                  951,
                  null,
                  false,
                  true
                ],
                [
                  148,
                  1817,
                  null,
                  false,
                  true
                ],
                [
                  148,
                  2717,
                  null,
                  false,
                  true
                ],
                [
                  148,
                  4002,
                  null,
                  false,
                  true
                ],
                [
                  148,
                  1716,
                  null,
                  false,
                  true
                ],
                [
                  148,
                  4520,
                  null,
                  false,
                  true
                ],
                [
                  148,
                  951,
                  null,
                  false,
                  true
                ]
              ]
            },
            "text/plain": "<Spark SQL result set with 11 rows and 5 fields>"
          },
          "metadata": {}
        }
      ],
      "execution_count": 5,
      "metadata": {
        "jupyter": {
          "source_hidden": false,
          "outputs_hidden": false
        },
        "nteract": {
          "transient": {
            "deleting": false
          }
        },
        "microsoft": {
          "language": "sparksql"
        },
        "collapsed": false
      }
    },
    {
      "cell_type": "code",
      "source": [
        "from pyspark.sql.functions import *\r\n",
        "\r\n",
        "topPreferredProducts = (topPurchases\r\n",
        "    .filter( col(\"IsTopProduct\") == True)\r\n",
        "    .filter( col(\"IsPreferredProduct\") == True)\r\n",
        "    .orderBy( col(\"ItemsPurchasedLast12Months\").desc() ))\r\n",
        "\r\n",
        "topPreferredProducts.show(11)"
      ],
      "outputs": [
        {
          "output_type": "display_data",
          "data": {
            "application/vnd.livy.statement-meta+json": {
              "spark_pool": "SparkPool01",
              "session_id": "28",
              "statement_id": 6,
              "state": "finished",
              "livy_statement_state": "available",
              "queued_time": "2023-07-17T16:13:53.9597056Z",
              "session_start_time": null,
              "execution_start_time": "2023-07-17T16:13:54.1487415Z",
              "execution_finish_time": "2023-07-17T16:13:56.0844459Z",
              "spark_jobs": null,
              "parent_msg_id": "e8a88dcf-6321-4cde-8267-8172df0d5625"
            },
            "text/plain": "StatementMeta(SparkPool01, 28, 6, Finished, Available)"
          },
          "metadata": {}
        },
        {
          "output_type": "stream",
          "name": "stdout",
          "text": [
            "+------+---------+--------------------------+------------+------------------+\n|UserId|ProductId|ItemsPurchasedLast12Months|IsTopProduct|IsPreferredProduct|\n+------+---------+--------------------------+------------+------------------+\n| 84445|     1001|                        99|        true|              true|\n| 90804|     1709|                        99|        true|              true|\n| 90804|     1709|                        99|        true|              true|\n| 90804|     1709|                        99|        true|              true|\n| 90804|     1709|                        99|        true|              true|\n| 89537|     1473|                        99|        true|              true|\n| 90804|     1709|                        99|        true|              true|\n| 89537|     1473|                        99|        true|              true|\n| 90804|     1709|                        99|        true|              true|\n| 89537|     1473|                        99|        true|              true|\n| 90804|     1709|                        99|        true|              true|\n+------+---------+--------------------------+------------+------------------+\nonly showing top 11 rows\n\n"
          ]
        }
      ],
      "execution_count": 6,
      "metadata": {
        "jupyter": {
          "source_hidden": false,
          "outputs_hidden": false
        },
        "nteract": {
          "transient": {
            "deleting": false
          }
        }
      }
    },
    {
      "cell_type": "markdown",
      "source": [
        "Additional transofrmation in SQL \r\n",
        "row)numbser \r\n",
        "where"
      ],
      "metadata": {
        "nteract": {
          "transient": {
            "deleting": false
          }
        }
      }
    },
    {
      "cell_type": "code",
      "source": [
        "%%sql\r\n",
        "\r\n",
        "CREATE OR REPLACE TEMPORARY VIEW top_5_products\r\n",
        "AS\r\n",
        "    select \r\n",
        "        UserId,\r\n",
        "        ProductId, \r\n",
        "        ItemsPurchasedLast12Months\r\n",
        "    from (\r\n",
        "            select *,\r\n",
        "                row_number() over (partition by UserId order by ItemsPurchasedLast12Months desc) as seqnum\r\n",
        "            from top_purchases\r\n",
        "        ) a\r\n",
        "    where \r\n",
        "        seqnum <= 5 and \r\n",
        "        IsTopProduct == true and \r\n",
        "        IsPreferredProduct = true\r\n",
        "    order by\r\n",
        "        a.UserId"
      ],
      "outputs": [
        {
          "output_type": "display_data",
          "data": {
            "application/vnd.livy.statement-meta+json": {
              "spark_pool": "SparkPool01",
              "session_id": "28",
              "statement_id": 7,
              "state": "finished",
              "livy_statement_state": "available",
              "queued_time": "2023-07-17T16:14:01.9253796Z",
              "session_start_time": null,
              "execution_start_time": "2023-07-17T16:14:02.1037311Z",
              "execution_finish_time": "2023-07-17T16:14:03.2368164Z",
              "spark_jobs": null,
              "parent_msg_id": "5e878299-f35f-4f7c-97ee-6cf8a0f7b109"
            },
            "text/plain": "StatementMeta(SparkPool01, 28, 7, Finished, Available)"
          },
          "metadata": {}
        },
        {
          "output_type": "execute_result",
          "execution_count": 7,
          "data": {
            "application/vnd.synapse.sparksql-result+json": {
              "schema": {
                "type": "struct",
                "fields": []
              },
              "data": []
            },
            "text/plain": "<Spark SQL result set with 0 rows and 0 fields>"
          },
          "metadata": {}
        }
      ],
      "execution_count": 7,
      "metadata": {
        "jupyter": {
          "source_hidden": false,
          "outputs_hidden": false
        },
        "nteract": {
          "transient": {
            "deleting": false
          }
        },
        "microsoft": {
          "language": "sparksql"
        },
        "collapsed": false
      }
    },
    {
      "cell_type": "code",
      "source": [
        "top5Products = sqlContext.table(\"top_5_products\")\r\n",
        "\r\n",
        "top5Products.show(11)"
      ],
      "outputs": [
        {
          "output_type": "display_data",
          "data": {
            "application/vnd.livy.statement-meta+json": {
              "spark_pool": "SparkPool01",
              "session_id": "28",
              "statement_id": 8,
              "state": "finished",
              "livy_statement_state": "available",
              "queued_time": "2023-07-17T16:15:13.8462856Z",
              "session_start_time": null,
              "execution_start_time": "2023-07-17T16:15:14.0419057Z",
              "execution_finish_time": "2023-07-17T16:15:21.1085729Z",
              "spark_jobs": null,
              "parent_msg_id": "21e2d150-a51e-4be3-b1d9-c8d1728cd272"
            },
            "text/plain": "StatementMeta(SparkPool01, 28, 8, Finished, Available)"
          },
          "metadata": {}
        },
        {
          "output_type": "stream",
          "name": "stdout",
          "text": [
            "+------+---------+--------------------------+\n|UserId|ProductId|ItemsPurchasedLast12Months|\n+------+---------+--------------------------+\n| 80000|     2069|                        93|\n| 80000|     2069|                        93|\n| 80000|     2069|                        93|\n| 80000|     2069|                        93|\n| 80000|     2069|                        93|\n| 80001|     1812|                        93|\n| 80001|     1812|                        93|\n| 80001|     1812|                        93|\n| 80001|     1812|                        93|\n| 80001|     1812|                        93|\n| 80002|     4987|                        88|\n+------+---------+--------------------------+\nonly showing top 11 rows\n\n"
          ]
        }
      ],
      "execution_count": 8,
      "metadata": {
        "jupyter": {
          "source_hidden": false,
          "outputs_hidden": false
        },
        "nteract": {
          "transient": {
            "deleting": false
          }
        }
      }
    },
    {
      "cell_type": "code",
      "source": [
        "print('topPreferredProducts(IsTopProduct=T,IsPreferredProduct=T): ', topPreferredProducts.count(), ', top5Products (filter: ', top5Products.count())"
      ],
      "outputs": [
        {
          "output_type": "display_data",
          "data": {
            "application/vnd.livy.statement-meta+json": {
              "spark_pool": "SparkPool01",
              "session_id": "28",
              "statement_id": 9,
              "state": "finished",
              "livy_statement_state": "available",
              "queued_time": "2023-07-17T16:15:16.5352435Z",
              "session_start_time": null,
              "execution_start_time": "2023-07-17T16:15:21.2690188Z",
              "execution_finish_time": "2023-07-17T16:15:34.0601983Z",
              "spark_jobs": null,
              "parent_msg_id": "83b0cff1-9f0e-4dcd-808a-f369ba104587"
            },
            "text/plain": "StatementMeta(SparkPool01, 28, 9, Finished, Available)"
          },
          "metadata": {}
        },
        {
          "output_type": "stream",
          "name": "stdout",
          "text": [
            "topPreferredProducts(IsTopProduct=T,IsPreferredProduct=T):  997817 , top5Products (filter:  85015\n"
          ]
        }
      ],
      "execution_count": 9,
      "metadata": {
        "jupyter": {
          "source_hidden": false,
          "outputs_hidden": false
        },
        "nteract": {
          "transient": {
            "deleting": false
          }
        }
      }
    },
    {
      "cell_type": "code",
      "source": [
        "top5ProductsOverall = (top5Products.select(\"ProductId\",\"ItemsPurchasedLast12Months\")\r\n",
        "    .groupBy(\"ProductId\")\r\n",
        "    .agg( sum(\"ItemsPurchasedLast12Months\").alias(\"Total\") )\r\n",
        "    .orderBy( col(\"Total\").desc() )\r\n",
        "    .limit(5))\r\n",
        "\r\n",
        "top5ProductsOverall.show()"
      ],
      "outputs": [
        {
          "output_type": "display_data",
          "data": {
            "application/vnd.livy.statement-meta+json": {
              "spark_pool": "SparkPool01",
              "session_id": "28",
              "statement_id": 10,
              "state": "finished",
              "livy_statement_state": "available",
              "queued_time": "2023-07-17T16:16:05.4259804Z",
              "session_start_time": null,
              "execution_start_time": "2023-07-17T16:16:05.5838401Z",
              "execution_finish_time": "2023-07-17T16:16:16.3295063Z",
              "spark_jobs": null,
              "parent_msg_id": "4c12e322-aacc-48a1-8fc3-39a50cbddc44"
            },
            "text/plain": "StatementMeta(SparkPool01, 28, 10, Finished, Available)"
          },
          "metadata": {}
        },
        {
          "output_type": "stream",
          "name": "stdout",
          "text": [
            "+---------+-----+\n|ProductId|Total|\n+---------+-----+\n|      347| 4523|\n|     4833| 4314|\n|     3459| 4233|\n|     2486| 4135|\n|     2107| 4113|\n+---------+-----+\n\n"
          ]
        }
      ],
      "execution_count": 10,
      "metadata": {
        "jupyter": {
          "source_hidden": false,
          "outputs_hidden": false
        },
        "nteract": {
          "transient": {
            "deleting": false
          }
        }
      }
    },
    {
      "cell_type": "code",
      "source": [
        "import uuid\r\n",
        "\r\n",
        "# Generate random GUID\r\n",
        "runId = uuid.uuid4()"
      ],
      "outputs": [
        {
          "output_type": "display_data",
          "data": {
            "application/vnd.livy.statement-meta+json": {
              "spark_pool": "SparkPool01",
              "session_id": "28",
              "statement_id": 11,
              "state": "finished",
              "livy_statement_state": "available",
              "queued_time": "2023-07-17T16:16:10.4499798Z",
              "session_start_time": null,
              "execution_start_time": "2023-07-17T16:16:16.5080939Z",
              "execution_finish_time": "2023-07-17T16:16:16.6867729Z",
              "spark_jobs": null,
              "parent_msg_id": "f823876a-7022-4048-97ff-3084ef7b207d"
            },
            "text/plain": "StatementMeta(SparkPool01, 28, 11, Finished, Available)"
          },
          "metadata": {}
        }
      ],
      "execution_count": 11,
      "metadata": {
        "jupyter": {
          "source_hidden": false,
          "outputs_hidden": false
        },
        "nteract": {
          "transient": {
            "deleting": false
          }
        }
      }
    },
    {
      "cell_type": "markdown",
      "source": [
        "Write calculated results  to datalake storage as parquet in top5-products dir "
      ],
      "metadata": {
        "nteract": {
          "transient": {
            "deleting": false
          }
        }
      }
    },
    {
      "cell_type": "code",
      "source": [
        "%%pyspark\r\n",
        "\r\n",
        "top5ProductsOverall.write.parquet('abfss://asa-kz@asadatalake19hvmew.dfs.core.windows.net/top5-products/' + str(runId) + '.parquet')"
      ],
      "outputs": [
        {
          "output_type": "display_data",
          "data": {
            "application/vnd.livy.statement-meta+json": {
              "spark_pool": "SparkPool01",
              "session_id": "28",
              "statement_id": 12,
              "state": "finished",
              "livy_statement_state": "available",
              "queued_time": "2023-07-17T16:16:34.006973Z",
              "session_start_time": null,
              "execution_start_time": "2023-07-17T16:16:34.1661436Z",
              "execution_finish_time": "2023-07-17T16:16:51.2403553Z",
              "spark_jobs": null,
              "parent_msg_id": "f7145e4c-e1fb-496b-9387-443b9315adc7"
            },
            "text/plain": "StatementMeta(SparkPool01, 28, 12, Finished, Available)"
          },
          "metadata": {}
        }
      ],
      "execution_count": 12,
      "metadata": {
        "jupyter": {
          "source_hidden": false,
          "outputs_hidden": false
        },
        "nteract": {
          "transient": {
            "deleting": false
          }
        },
        "microsoft": {
          "language": "python"
        }
      }
    }
  ],
  "metadata": {
    "kernelspec": {
      "name": "synapse_pyspark",
      "language": "Python",
      "display_name": "Synapse PySpark"
    },
    "language_info": {
      "name": "python"
    },
    "kernel_info": {
      "name": "synapse_pyspark"
    },
    "description": "Calculate Top 5 Products\nl07_Ex1",
    "save_output": true,
    "synapse_widget": {
      "version": "0.1",
      "state": {
        "c45eb09b-11d8-45f4-8d46-dd1ff37062e7": {
          "type": "Synapse.DataFrame",
          "sync_state": {
            "table": {
              "rows": [
                {
                  "1": "2717",
                  "3": "2717",
                  "4": "148",
                  "5": "false",
                  "6": "true"
                },
                {
                  "1": "4002",
                  "3": "4002",
                  "4": "148",
                  "5": "false",
                  "6": "true"
                },
                {
                  "1": "1716",
                  "3": "1716",
                  "4": "148",
                  "5": "false",
                  "6": "true"
                },
                {
                  "1": "4520",
                  "3": "4520",
                  "4": "148",
                  "5": "false",
                  "6": "true"
                },
                {
                  "1": "951",
                  "3": "951",
                  "4": "148",
                  "5": "false",
                  "6": "true"
                },
                {
                  "1": "1817",
                  "3": "1817",
                  "4": "148",
                  "5": "false",
                  "6": "true"
                },
                {
                  "1": "2717",
                  "3": "2717",
                  "4": "148",
                  "5": "false",
                  "6": "true"
                },
                {
                  "1": "4002",
                  "3": "4002",
                  "4": "148",
                  "5": "false",
                  "6": "true"
                },
                {
                  "1": "1716",
                  "3": "1716",
                  "4": "148",
                  "5": "false",
                  "6": "true"
                },
                {
                  "1": "4520",
                  "3": "4520",
                  "4": "148",
                  "5": "false",
                  "6": "true"
                }
              ],
              "schema": [
                {
                  "key": "0",
                  "name": "visitorId",
                  "type": "int"
                },
                {
                  "key": "1",
                  "name": "productId",
                  "type": "int"
                },
                {
                  "key": "2",
                  "name": "itemsPurchasedLast12Months",
                  "type": "int"
                },
                {
                  "key": "3",
                  "name": "preferredProductId",
                  "type": "int"
                },
                {
                  "key": "4",
                  "name": "userId",
                  "type": "int"
                },
                {
                  "key": "5",
                  "name": "isTopProduct",
                  "type": "boolean"
                },
                {
                  "key": "6",
                  "name": "isPreferredProduct",
                  "type": "boolean"
                }
              ],
              "truncated": false
            },
            "isSummary": false,
            "language": "scala"
          },
          "persist_state": {
            "view": {
              "type": "details",
              "tableOptions": {},
              "chartOptions": {
                "chartType": "bar",
                "aggregationType": "sum",
                "categoryFieldKeys": [
                  "1"
                ],
                "seriesFieldKeys": [
                  "0"
                ],
                "isStacked": false
              }
            }
          }
        }
      }
    }
  },
  "nbformat": 4,
  "nbformat_minor": 2
}